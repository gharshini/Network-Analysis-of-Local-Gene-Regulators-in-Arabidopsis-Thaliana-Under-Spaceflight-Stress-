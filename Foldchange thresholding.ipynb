{
 "cells": [
  {
   "cell_type": "markdown",
   "metadata": {},
   "source": [
    "This jupyter notebook separates upregulated and downregulated genes according to the given fold change values"
   ]
  },
  {
   "cell_type": "code",
   "execution_count": null,
   "metadata": {},
   "outputs": [],
   "source": [
    "import pandas as pd\n",
    "df = pd.read_csv(\"C:/Users/data.csv\")"
   ]
  },
  {
   "cell_type": "code",
   "execution_count": null,
   "metadata": {},
   "outputs": [],
   "source": [
    "pos_values = [x for x in df.Log2fc.values if x >= 0] \n",
    "neg_values = [x for x in df.Log2fc.values if x < 0]\n",
    "lp= len(pos_values)\n",
    "ln= len(neg_values)\n",
    "sp= sum(pos_values)\n",
    "sn= sum(neg_values)\n",
    "tp= sp/lp\n",
    "tn= sn/ln\n",
    "pos= [x for x in df.Log2fc.values if x >= tp] #threshold for upregulated genes\n",
    "neg= [x for x in df.Log2fc.values if x <= tn] #threshold for downregulated genes"
   ]
  },
  {
   "cell_type": "code",
   "execution_count": null,
   "metadata": {},
   "outputs": [],
   "source": [
    "#saves upregulated genes\n",
    "up = df[df.Log2fc.isin(list(pos))]\n",
    "up_regulated = up[['TAIR','Log2fc']]\n",
    "up_regulated.to_csv(\"C:/Users/upregulated.csv\",index=False)"
   ]
  },
  {
   "cell_type": "code",
   "execution_count": null,
   "metadata": {},
   "outputs": [],
   "source": [
    "#saves downregulated genes\n",
    "down= df[df.Log2fc.isin(list(neg))]\n",
    "down_regulated = down[['TAIR','Log2fc']]\n",
    "down_regulated.to_csv(\"C:/Users/downregulated.csv\",index=False)"
   ]
  }
 ],
 "metadata": {
  "kernelspec": {
   "display_name": "Python 3",
   "language": "python",
   "name": "python3"
  },
  "language_info": {
   "codemirror_mode": {
    "name": "ipython",
    "version": 3
   },
   "file_extension": ".py",
   "mimetype": "text/x-python",
   "name": "python",
   "nbconvert_exporter": "python",
   "pygments_lexer": "ipython3",
   "version": "3.7.4"
  }
 },
 "nbformat": 4,
 "nbformat_minor": 2
}
