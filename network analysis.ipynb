{
 "cells": [
  {
   "cell_type": "code",
   "execution_count": null,
   "metadata": {},
   "outputs": [],
   "source": [
    "import networkx as nx\n",
    "import pandas as pd"
   ]
  },
  {
   "cell_type": "code",
   "execution_count": null,
   "metadata": {},
   "outputs": [],
   "source": [
    "df = pd.read_csv(\"C:/Users/data.csv\")"
   ]
  },
  {
   "cell_type": "code",
   "execution_count": null,
   "metadata": {},
   "outputs": [],
   "source": [
    "G = nx.from_pandas_edgelist(df, 'gene1', 'gene2',edge_attr=['test_statistic'])"
   ]
  },
  {
   "cell_type": "markdown",
   "metadata": {},
   "source": [
    "Average Shortest Path Length"
   ]
  },
  {
   "cell_type": "code",
   "execution_count": null,
   "metadata": {},
   "outputs": [],
   "source": [
    "path_length=nx.average_shortest_path_length(G)\n",
    "#print(path_length)"
   ]
  },
  {
   "cell_type": "markdown",
   "metadata": {},
   "source": [
    "Average Clustering Coefficient"
   ]
  },
  {
   "cell_type": "code",
   "execution_count": null,
   "metadata": {},
   "outputs": [],
   "source": [
    "clustering=nx.average_clustering(G)\n",
    "#print(clustering)"
   ]
  },
  {
   "cell_type": "markdown",
   "metadata": {},
   "source": [
    "closeness centrality"
   ]
  },
  {
   "cell_type": "code",
   "execution_count": null,
   "metadata": {},
   "outputs": [],
   "source": [
    "closeness=nx.closeness_centrality(G)\n",
    "#print(closeness)"
   ]
  },
  {
   "cell_type": "code",
   "execution_count": null,
   "metadata": {},
   "outputs": [],
   "source": [
    "max(closeness)"
   ]
  },
  {
   "cell_type": "markdown",
   "metadata": {},
   "source": [
    "Node betweenness centrality"
   ]
  },
  {
   "cell_type": "code",
   "execution_count": null,
   "metadata": {},
   "outputs": [],
   "source": [
    "node_betweenness=nx.betweenness_centrality(G)\n",
    "#print(node_betweenness)"
   ]
  },
  {
   "cell_type": "markdown",
   "metadata": {},
   "source": [
    "Degree centrality"
   ]
  },
  {
   "cell_type": "code",
   "execution_count": null,
   "metadata": {},
   "outputs": [],
   "source": [
    "degree_centrality=nx.degree_centrality(G)\n",
    "#print(degree_centrality)"
   ]
  },
  {
   "cell_type": "markdown",
   "metadata": {},
   "source": [
    "Global efficiency"
   ]
  },
  {
   "cell_type": "code",
   "execution_count": null,
   "metadata": {},
   "outputs": [],
   "source": [
    "global_efficiency=nx.global_efficiency(G)\n",
    "#print(global_efficiency)"
   ]
  },
  {
   "cell_type": "markdown",
   "metadata": {},
   "source": [
    "Local efficiency"
   ]
  },
  {
   "cell_type": "code",
   "execution_count": null,
   "metadata": {},
   "outputs": [],
   "source": [
    "local_efficiency=nx.local_efficiency(G)\n",
    "#print(local_efficiency)"
   ]
  },
  {
   "cell_type": "markdown",
   "metadata": {},
   "source": [
    "Hits"
   ]
  },
  {
   "cell_type": "code",
   "execution_count": null,
   "metadata": {},
   "outputs": [],
   "source": [
    "h,a=nx.hits(G)\n",
    "#print(h,a)"
   ]
  },
  {
   "cell_type": "markdown",
   "metadata": {},
   "source": [
    "Eigenvalues"
   ]
  },
  {
   "cell_type": "code",
   "execution_count": null,
   "metadata": {},
   "outputs": [],
   "source": [
    "L = nx.normalized_laplacian_matrix(G)\n",
    "e = np.linalg.eigvals(L.A)\n",
    "import matplotlib.pyplot as plt\n",
    "print(\"Largest eigenvalue:\", max(e))\n",
    "print(\"Smallest eigenvalue:\", min(e))\n",
    "plt.hist(e, bins=100)  # histogram with 100 bins\n",
    "plt.xlim(0, 2)  # eigenvalues between 0 and 2\n",
    "plt.show()"
   ]
  },
  {
   "cell_type": "markdown",
   "metadata": {},
   "source": [
    "Eigenvector centrality"
   ]
  },
  {
   "cell_type": "code",
   "execution_count": null,
   "metadata": {},
   "outputs": [],
   "source": [
    "eigenvector_centrality = nx.eigenvector_centrality_numpy(G, weight=None, tol=0)\n",
    "#print(eigenvector_centrality)"
   ]
  },
  {
   "cell_type": "markdown",
   "metadata": {},
   "source": [
    "Spanning trees"
   ]
  },
  {
   "cell_type": "code",
   "execution_count": null,
   "metadata": {},
   "outputs": [],
   "source": [
    "spanning=nx.minimum_spanning_tree(G)\n",
    "span_edges=pd.DataFrame(sorted(spanning.edges(data=True)))\n",
    "len(span_edges)"
   ]
  },
  {
   "cell_type": "markdown",
   "metadata": {},
   "source": [
    "Small worldness"
   ]
  },
  {
   "cell_type": "code",
   "execution_count": null,
   "metadata": {},
   "outputs": [],
   "source": [
    "nodes=len(G.nodes)\n",
    "edges=len(G.edges)\n",
    "\n",
    "Gr=nx.generators.random_graphs.gnp_random_graph(nodes,edges,seed=None,directed=False)\n",
    "Cr= nx.average_clustering(Gr)\n",
    "Lr= nx.average_shortest_path_length(Gr)\n",
    "\n",
    "gamma=(clustering/Cr)\n",
    "lamba=(path_length/Lr)\n",
    "\n",
    "sigma = (gamma/lamba)\n",
    "print(sigma) #if sigma is >1, then the network is considered small-world"
   ]
  },
  {
   "cell_type": "markdown",
   "metadata": {},
   "source": [
    "Isomorphic"
   ]
  },
  {
   "cell_type": "code",
   "execution_count": null,
   "metadata": {},
   "outputs": [],
   "source": [
    "from networkx.algorithms import isomorphism\n",
    "\n",
    "df1=pd.read_csv('C:/Users/data1.csv')\n",
    "df2=pd.read_csv('C:/Users/data2.csv')\n",
    "\n",
    "G1 = nx.from_pandas_edgelist(df1, 'gene1', 'gene2',edge_attr=['test_statistic'])\n",
    "#Gn1=nx.to_undirected(G1)\n",
    "\n",
    "G2 = nx.from_pandas_edgelist(df2, 'gene1', 'gene2',edge_attr=['test_statistic'])\n",
    "#Gn2=nx.to_undirected(G2)\n",
    "\n",
    "GM=isomorphism.GraphMatcher(G1,G2)\n",
    "GM.is_isomorphic()"
   ]
  }
 ],
 "metadata": {
  "kernelspec": {
   "display_name": "Python 3",
   "language": "python",
   "name": "python3"
  },
  "language_info": {
   "codemirror_mode": {
    "name": "ipython",
    "version": 3
   },
   "file_extension": ".py",
   "mimetype": "text/x-python",
   "name": "python",
   "nbconvert_exporter": "python",
   "pygments_lexer": "ipython3",
   "version": "3.7.4"
  }
 },
 "nbformat": 4,
 "nbformat_minor": 2
}
